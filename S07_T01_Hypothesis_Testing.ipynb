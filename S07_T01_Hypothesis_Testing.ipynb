{
 "cells": [
  {
   "cell_type": "markdown",
   "metadata": {},
   "source": [
    "\n",
    "# S07T01_Hypothesis_Testing\n",
    "Sprint 7.Task 1. Hypothesis Testing\n",
    "\n",
    "## Description\n",
    "Learn how to perform hypothesis testing with Python.\n",
    "\n",
    "Level 1\n",
    "- Exercise 1\n",
    "Take a data set you like and select an attribute from the data set. Calculate the p-value and say whether it disproves the null hypothesis by taking an alpha of 5%. \n",
    "\n",
    "Level 2\n",
    "- Exercise 2\n",
    "Continue with the data set you like and select two other attributes from the data set. Calculate the p-values and say whether they disprove the null hypothesis by taking an alpha of 5%.\n",
    "\n",
    "Level 3 \n",
    "- Exercise 3\n",
    "Continue with the data set you like and select three attributes from the data set. Calculate the p-value and say whether it disproves the null hypothesis by taking an alpha of 5%.\n"
   ]
  },
  {
   "cell_type": "markdown",
   "metadata": {},
   "source": [
    "## Level 1\n",
    "### - Exercise 1\n",
    "Take a data set you like and select an attribute from the data set. Calculate the p-value and say whether it disproves the null hypothesis by taking an alpha of 5%. \n",
    "\n",
    "Explanation of p-value:  ( 🗨️ from https://en.wikipedia.org/wiki/P-value)  \n",
    "![](2022-02-09-18-38-42.png)  \n",
    "![](2022-02-14-12-29-40.png)  \n",
    "![](2022-02-14-12-31-20.png)  \n",
    "\n",
    "We are going to select the dataset of the 2022 Hackathon MWC Barcelona (Mobile World Congress)"
   ]
  },
  {
   "cell_type": "markdown",
   "metadata": {},
   "source": [
    "# Dataset Information:\n",
    "## 🖥 CHALLENGE\n",
    "### Background  \n",
    "Nuwefruit is a startup that seeks to revolutionize the habits of the population by encouraging the consumption of fruit on a daily basis. For this reason, the company specializes in the sale of fruit at home, which thanks to its last mile optimization algorithm allows it to have very low logistics costs. This allows Nuwefruit to sell fruit at a lower price than its competitors. Its catalog is based on the sale of more than 20 types of fruit, which have the best nutritional properties.\n",
    "\n",
    "### Overview: the dataset and challenge\n",
    "\n",
    "Two datasets will be used: the first one contains data on Nuwefruit's customers and the other one contains data on the orders placed by them.\n",
    "\n",
    "The customer dataset 'CLIENT TABLE' contains the following variables:\n",
    "\n",
    "\n",
    "|Column |Description |\n",
    "|---------|---------|\n",
    "|CLIENT ID:|Unique identifier of the customer  \n",
    "|CLIENT_SEGMENT:|Customer segment  \n",
    "|AVG CONSO: | Average monthly consumption of the customer calculated at the end of 2020 (in pieces of fruit)\n",
    "|AVG BASKET SIZE: |Customer's average basket size calculated at the end of 2020 (in pieces of fruit)\n",
    "|RECEIVED_COMMUNICATION:| 1 = Received promotion of your products / 0 = did not receive it\n"
   ]
  },
  {
   "cell_type": "code",
   "execution_count": 1,
   "metadata": {},
   "outputs": [],
   "source": [
    "# Import libraries\n",
    "import numpy as np\n",
    "import pandas as pd\n",
    "import matplotlib.pyplot as plt\n",
    "import seaborn as sns\n",
    "from scipy import stats\n"
   ]
  },
  {
   "cell_type": "code",
   "execution_count": 2,
   "metadata": {},
   "outputs": [],
   "source": [
    "# Import dataset\n",
    "df_clients = pd.read_csv(\"mwc22-client_table.csv\", decimal = ',')"
   ]
  },
  {
   "cell_type": "code",
   "execution_count": 3,
   "metadata": {},
   "outputs": [
    {
     "data": {
      "text/plain": [
       "Index(['client_id', 'client_segment', 'avg_conso', 'avg_basket_size',\n",
       "       'received_communication'],\n",
       "      dtype='object')"
      ]
     },
     "execution_count": 3,
     "metadata": {},
     "output_type": "execute_result"
    }
   ],
   "source": [
    "# Column names cleansing\n",
    "df_clients.columns = df_clients.columns.str.lower()\n",
    "df_clients.columns = df_clients.columns.str.replace(\" \",\"_\")\n",
    "df_clients.rename_axis('client_id', inplace=True)\n",
    "df_clients.columns"
   ]
  },
  {
   "cell_type": "code",
   "execution_count": 4,
   "metadata": {},
   "outputs": [
    {
     "name": "stdout",
     "output_type": "stream",
     "text": [
      "<class 'pandas.core.frame.DataFrame'>\n",
      "RangeIndex: 35884 entries, 0 to 35883\n",
      "Data columns (total 5 columns):\n",
      " #   Column                  Non-Null Count  Dtype  \n",
      "---  ------                  --------------  -----  \n",
      " 0   client_id               35884 non-null  int64  \n",
      " 1   client_segment          35884 non-null  int64  \n",
      " 2   avg_conso               35884 non-null  float64\n",
      " 3   avg_basket_size         35884 non-null  float64\n",
      " 4   received_communication  35884 non-null  int64  \n",
      "dtypes: float64(2), int64(3)\n",
      "memory usage: 1.4 MB\n"
     ]
    }
   ],
   "source": [
    "df_clients.info()"
   ]
  },
  {
   "cell_type": "code",
   "execution_count": 5,
   "metadata": {},
   "outputs": [],
   "source": [
    "# Sort by client_id\n",
    "df_clients.sort_index(inplace=True)"
   ]
  },
  {
   "cell_type": "code",
   "execution_count": 6,
   "metadata": {},
   "outputs": [
    {
     "data": {
      "text/html": [
       "<div>\n",
       "<style scoped>\n",
       "    .dataframe tbody tr th:only-of-type {\n",
       "        vertical-align: middle;\n",
       "    }\n",
       "\n",
       "    .dataframe tbody tr th {\n",
       "        vertical-align: top;\n",
       "    }\n",
       "\n",
       "    .dataframe thead th {\n",
       "        text-align: right;\n",
       "    }\n",
       "</style>\n",
       "<table border=\"1\" class=\"dataframe\">\n",
       "  <thead>\n",
       "    <tr style=\"text-align: right;\">\n",
       "      <th></th>\n",
       "      <th>client_id</th>\n",
       "      <th>client_segment</th>\n",
       "      <th>avg_conso</th>\n",
       "      <th>avg_basket_size</th>\n",
       "      <th>received_communication</th>\n",
       "    </tr>\n",
       "  </thead>\n",
       "  <tbody>\n",
       "    <tr>\n",
       "      <th>count</th>\n",
       "      <td>35884.00</td>\n",
       "      <td>35884.00</td>\n",
       "      <td>35884.00</td>\n",
       "      <td>35884.00</td>\n",
       "      <td>35884.00</td>\n",
       "    </tr>\n",
       "    <tr>\n",
       "      <th>mean</th>\n",
       "      <td>27060578.92</td>\n",
       "      <td>3.12</td>\n",
       "      <td>64.53</td>\n",
       "      <td>181.22</td>\n",
       "      <td>0.51</td>\n",
       "    </tr>\n",
       "    <tr>\n",
       "      <th>std</th>\n",
       "      <td>8835076.38</td>\n",
       "      <td>1.51</td>\n",
       "      <td>64.38</td>\n",
       "      <td>129.60</td>\n",
       "      <td>0.50</td>\n",
       "    </tr>\n",
       "    <tr>\n",
       "      <th>min</th>\n",
       "      <td>18073108.00</td>\n",
       "      <td>1.00</td>\n",
       "      <td>0.83</td>\n",
       "      <td>10.00</td>\n",
       "      <td>0.00</td>\n",
       "    </tr>\n",
       "    <tr>\n",
       "      <th>25%</th>\n",
       "      <td>20533114.25</td>\n",
       "      <td>2.00</td>\n",
       "      <td>20.83</td>\n",
       "      <td>100.00</td>\n",
       "      <td>0.00</td>\n",
       "    </tr>\n",
       "    <tr>\n",
       "      <th>50%</th>\n",
       "      <td>24621903.00</td>\n",
       "      <td>3.00</td>\n",
       "      <td>50.00</td>\n",
       "      <td>160.00</td>\n",
       "      <td>1.00</td>\n",
       "    </tr>\n",
       "    <tr>\n",
       "      <th>75%</th>\n",
       "      <td>32985383.25</td>\n",
       "      <td>4.00</td>\n",
       "      <td>88.17</td>\n",
       "      <td>225.00</td>\n",
       "      <td>1.00</td>\n",
       "    </tr>\n",
       "    <tr>\n",
       "      <th>max</th>\n",
       "      <td>48365940.00</td>\n",
       "      <td>6.00</td>\n",
       "      <td>2433.33</td>\n",
       "      <td>3400.20</td>\n",
       "      <td>1.00</td>\n",
       "    </tr>\n",
       "  </tbody>\n",
       "</table>\n",
       "</div>"
      ],
      "text/plain": [
       "         client_id  client_segment  avg_conso  avg_basket_size  \\\n",
       "count     35884.00        35884.00   35884.00         35884.00   \n",
       "mean   27060578.92            3.12      64.53           181.22   \n",
       "std     8835076.38            1.51      64.38           129.60   \n",
       "min    18073108.00            1.00       0.83            10.00   \n",
       "25%    20533114.25            2.00      20.83           100.00   \n",
       "50%    24621903.00            3.00      50.00           160.00   \n",
       "75%    32985383.25            4.00      88.17           225.00   \n",
       "max    48365940.00            6.00    2433.33          3400.20   \n",
       "\n",
       "       received_communication  \n",
       "count                35884.00  \n",
       "mean                     0.51  \n",
       "std                      0.50  \n",
       "min                      0.00  \n",
       "25%                      0.00  \n",
       "50%                      1.00  \n",
       "75%                      1.00  \n",
       "max                      1.00  "
      ]
     },
     "execution_count": 6,
     "metadata": {},
     "output_type": "execute_result"
    }
   ],
   "source": [
    "round(df_clients.describe(include='all'),2)"
   ]
  },
  {
   "cell_type": "code",
   "execution_count": 16,
   "metadata": {},
   "outputs": [
    {
     "data": {
      "image/png": "[encoded data removed]",
      "text/plain": [
       "<Figure size 720x432 with 1 Axes>"
      ]
     },
     "metadata": {},
     "output_type": "display_data"
    }
   ],
   "source": [
    "sns.set_theme(palette=\"pastel\")\n",
    "fig, ax = plt.subplots(figsize=(10,6))\n",
    "plt.title(\"avg_basket_size vs client_segment\")\n",
    "sns.boxplot(y = 'avg_basket_size',data = df_clients);"
   ]
  },
  {
   "cell_type": "markdown",
   "metadata": {},
   "source": [
    "## Exercise 1\n",
    "\n",
    "As seen on describe function, the mean of the avg_basket_size  (Customer's average basket size) is 181.2 .  \n",
    "But, as we see on the boxplot graphic, there are a lot of outlayers that may be distorting the real mean avg_basket_size of the whole population.\n",
    "\n",
    "Let's plot our data to see if it follows a normal distribution:"
   ]
  },
  {
   "cell_type": "code",
   "execution_count": 8,
   "metadata": {},
   "outputs": [
    {
     "data": {
      "image/png": "[encoded data removed]",
      "text/plain": [
       "<Figure size 720x432 with 1 Axes>"
      ]
     },
     "metadata": {},
     "output_type": "display_data"
    }
   ],
   "source": [
    "# Prepare data\n",
    "data_x = df_clients['avg_basket_size']\n",
    "# Render\n",
    "fig, ax = plt.subplots(figsize=(10,6))\n",
    "ax.set_xlim(0,500)\n",
    "ax.hist(data_x,bins= 50);\n",
    "plt.show()"
   ]
  },
  {
   "cell_type": "markdown",
   "metadata": {},
   "source": [
    "It seems that probably is a normal distribution with outlayers."
   ]
  },
  {
   "cell_type": "code",
   "execution_count": 44,
   "metadata": {},
   "outputs": [
    {
     "name": "stdout",
     "output_type": "stream",
     "text": [
      " The value of the median is 160.0\n",
      " The value of the quantile 0.55 is 176.25\n"
     ]
    }
   ],
   "source": [
    "#Let's see the value of median\n",
    "print( \" The value of the median is %.1f\" %data_x.median())\n",
    "# And the value of quantile 56%\n",
    "res = np.quantile( data_x, 0.55)\n",
    "print( \" The value of the quantile 0.55 is %.2f\" %res)\n"
   ]
  },
  {
   "cell_type": "markdown",
   "metadata": {},
   "source": [
    " The value of the median is 160.0  \n",
    " The value of the quantile 0.56 is 180.2"
   ]
  },
  {
   "cell_type": "code",
   "execution_count": 43,
   "metadata": {},
   "outputs": [
    {
     "name": "stdout",
     "output_type": "stream",
     "text": [
      "Ttest_1sampResult(statistic=7.335219667794772, pvalue=1.1301578579550427e-13)\n"
     ]
    }
   ],
   "source": [
    "# First hypothesis µ = 176.2:\n",
    "result = stats.ttest_1samp(data_x, 176.2, alternative = 'greater')\n",
    "print(result)"
   ]
  },
  {
   "cell_type": "markdown",
   "metadata": {},
   "source": [
    "The t-statistic is 7.2621 and the p-value is 1.943e-13 \n",
    "\n",
    "### Interpret the results.\n",
    "\n",
    "The two hypotheses for this particular one sample t-test are as follows:\n",
    "\n",
    "H0: µ = 176.25 (the mean avg_basket_size is 176.25 fruits)\n",
    "\n",
    "HA: µ > 176.25 (the mean avg_basket_size is greater than 176.25 fruits)\n",
    "\n",
    "Because the p-value of our test (1.943e-13) is lower than alpha = 0.05, we reject the null hypothesis of the test. We have sufficient evidence to say that the mean avg_basket_size for this particular client's dataset is greater than 176.25 fruits."
   ]
  },
  {
   "cell_type": "code",
   "execution_count": 50,
   "metadata": {},
   "outputs": [
    {
     "name": "stdout",
     "output_type": "stream",
     "text": [
      "Ttest_1sampResult(statistic=1.488803926691011, pvalue=0.0682738981108959)\n"
     ]
    }
   ],
   "source": [
    "# Alternative µ = 180.2 :\n",
    "result = stats.ttest_1samp(data_x, 180.2, alternative = 'greater')\n",
    "print(result)"
   ]
  },
  {
   "cell_type": "markdown",
   "metadata": {},
   "source": [
    "The t-statistic is 1.48 and the p-value is 0.068 \n",
    "\n",
    "### Interpret the results.\n",
    "\n",
    "The two hypotheses for this particular one sample t-test are as follows:\n",
    "\n",
    "H0: µ = 180 (the mean avg_basket_size is 180 fruits)\n",
    "\n",
    "HA: µ > 180 (the mean avg_basket_size is greater than 180 fruits)\n",
    "\n",
    "Because the p-value of our test (0.068) is lower than alpha = 0.05, we reject the null hypothesis of the test. We have sufficient evidence to say that the mean avg_basket_size for this particular client's dataset is greater than 180 fruits."
   ]
  },
  {
   "cell_type": "code",
   "execution_count": 49,
   "metadata": {},
   "outputs": [
    {
     "name": "stdout",
     "output_type": "stream",
     "text": [
      "Ttest_1sampResult(statistic=0.31952077847024213, pvalue=0.6253332511602199)\n"
     ]
    }
   ],
   "source": [
    "# Final Alternative µ < 181 :\n",
    "result = stats.ttest_1samp(data_x, 181, alternative = 'less')\n",
    "print(result)"
   ]
  },
  {
   "cell_type": "markdown",
   "metadata": {},
   "source": [
    "The t-statistic is 0.31 and the p-value is 0.37 \n",
    "\n",
    "### Interpret the results.\n",
    "\n",
    "The two hypotheses for this particular one sample t-test are as follows:\n",
    "\n",
    "H0: µ < 181.2 (the mean avg_basket_size is 181.2 fruits)\n",
    "\n",
    "HA: µ >= 181.2 (the mean avg_basket_size is greater than 181.2 fruits)\n",
    "\n",
    "Because the p-value of our test (0.37) is greater than alpha = 0.05, we fail to reject the null hypothesis of the test. We do not have sufficient evidence to say that the mean avg_basket_size for this particular client's dataset is less than 181.2 fruits."
   ]
  },
  {
   "cell_type": "markdown",
   "metadata": {},
   "source": [
    "## Level 2\n",
    "### - Exercise 2\n",
    "Continue with the data set you like and select two other attributes from the data set. Calculate the p-values and say whether they disprove the null hypothesis by taking an alpha of 5%."
   ]
  },
  {
   "cell_type": "markdown",
   "metadata": {},
   "source": [
    "## Level 3 \n",
    "### - Exercise 3\n",
    "Continue with the data set you like and select three attributes from the data set. Calculate the p-value and say whether it disproves the null hypothesis by taking an alpha of 5%.\n"
   ]
  },
  {
   "cell_type": "markdown",
   "metadata": {},
   "source": [
    "## Example"
   ]
  },
  {
   "cell_type": "code",
   "execution_count": 10,
   "metadata": {},
   "outputs": [
    {
     "name": "stdout",
     "output_type": "stream",
     "text": [
      "Ttest_1sampResult(statistic=-0.688255164748027, pvalue=0.7541940324417624)\n"
     ]
    }
   ],
   "source": [
    "rvs = stats.norm.rvs(loc = 5, scale= 1, size = 500, random_state = 33) # loc is median and scale is std dev.\n",
    "# df_rvs = pd.DataFrame(rvs, columns=['x','y'])\n",
    "# df_rvs.plot(x = 'x' , y = 'y', kind = 'hist')\n",
    "result = stats.ttest_1samp(rvs,5.0,alternative = 'greater')\n",
    "print(result)\n"
   ]
  },
  {
   "cell_type": "markdown",
   "metadata": {},
   "source": [
    "The t test statistic is -0.6882 and the corresponding two-sided p-value is 0.7542.\n",
    "\n",
    "Step 3: Interpret the results.\n",
    "\n",
    "The two hypotheses for this particular one sample t-test are as follows:\n",
    "\n",
    "H0: µ = 5 (the mean height for this species of plant is 5 inches)\n",
    "\n",
    "HA: µ ≠ 5 (the mean height is not 5 inches)\n",
    "\n",
    "Because the p-value of our test (0.7542) is greater than alpha = 0.05, we fail to reject the null hypothesis of the test. We do not have sufficient evidence to say that the mean height for this particular species of plant is different from 5 inches."
   ]
  },
  {
   "cell_type": "code",
   "execution_count": 11,
   "metadata": {},
   "outputs": [
    {
     "data": {
      "image/png": "[encoded data removed]",
      "text/plain": [
       "<Figure size 1440x864 with 1 Axes>"
      ]
     },
     "metadata": {},
     "output_type": "display_data"
    }
   ],
   "source": [
    "sns.set_theme(palette=\"pastel\")\n",
    "fig, ax = plt.subplots(figsize=(20,12))\n",
    "plt.title(\"avg_basket_size Total\")\n",
    "sns.boxplot(y = 'avg_basket_size',data = df_clients);"
   ]
  },
  {
   "cell_type": "code",
   "execution_count": 12,
   "metadata": {},
   "outputs": [
    {
     "data": {
      "text/html": [
       "<div>\n",
       "<style scoped>\n",
       "    .dataframe tbody tr th:only-of-type {\n",
       "        vertical-align: middle;\n",
       "    }\n",
       "\n",
       "    .dataframe tbody tr th {\n",
       "        vertical-align: top;\n",
       "    }\n",
       "\n",
       "    .dataframe thead th {\n",
       "        text-align: right;\n",
       "    }\n",
       "</style>\n",
       "<table border=\"1\" class=\"dataframe\">\n",
       "  <thead>\n",
       "    <tr style=\"text-align: right;\">\n",
       "      <th></th>\n",
       "      <th>client_id</th>\n",
       "      <th>client_segment</th>\n",
       "      <th>avg_conso</th>\n",
       "      <th>avg_basket_size</th>\n",
       "      <th>received_communication</th>\n",
       "    </tr>\n",
       "  </thead>\n",
       "  <tbody>\n",
       "    <tr>\n",
       "      <th>count</th>\n",
       "      <td>35884.0</td>\n",
       "      <td>35884.0</td>\n",
       "      <td>35884.0</td>\n",
       "      <td>35884.0</td>\n",
       "      <td>35884.0</td>\n",
       "    </tr>\n",
       "    <tr>\n",
       "      <th>mean</th>\n",
       "      <td>27060579.0</td>\n",
       "      <td>3.0</td>\n",
       "      <td>65.0</td>\n",
       "      <td>181.0</td>\n",
       "      <td>1.0</td>\n",
       "    </tr>\n",
       "    <tr>\n",
       "      <th>std</th>\n",
       "      <td>8835076.0</td>\n",
       "      <td>2.0</td>\n",
       "      <td>64.0</td>\n",
       "      <td>130.0</td>\n",
       "      <td>0.0</td>\n",
       "    </tr>\n",
       "    <tr>\n",
       "      <th>min</th>\n",
       "      <td>18073108.0</td>\n",
       "      <td>1.0</td>\n",
       "      <td>1.0</td>\n",
       "      <td>10.0</td>\n",
       "      <td>0.0</td>\n",
       "    </tr>\n",
       "    <tr>\n",
       "      <th>25%</th>\n",
       "      <td>20533114.0</td>\n",
       "      <td>2.0</td>\n",
       "      <td>21.0</td>\n",
       "      <td>100.0</td>\n",
       "      <td>0.0</td>\n",
       "    </tr>\n",
       "    <tr>\n",
       "      <th>50%</th>\n",
       "      <td>24621903.0</td>\n",
       "      <td>3.0</td>\n",
       "      <td>50.0</td>\n",
       "      <td>160.0</td>\n",
       "      <td>1.0</td>\n",
       "    </tr>\n",
       "    <tr>\n",
       "      <th>75%</th>\n",
       "      <td>32985383.0</td>\n",
       "      <td>4.0</td>\n",
       "      <td>88.0</td>\n",
       "      <td>225.0</td>\n",
       "      <td>1.0</td>\n",
       "    </tr>\n",
       "    <tr>\n",
       "      <th>max</th>\n",
       "      <td>48365940.0</td>\n",
       "      <td>6.0</td>\n",
       "      <td>2433.0</td>\n",
       "      <td>3400.0</td>\n",
       "      <td>1.0</td>\n",
       "    </tr>\n",
       "  </tbody>\n",
       "</table>\n",
       "</div>"
      ],
      "text/plain": [
       "        client_id  client_segment  avg_conso  avg_basket_size  \\\n",
       "count     35884.0         35884.0    35884.0          35884.0   \n",
       "mean   27060579.0             3.0       65.0            181.0   \n",
       "std     8835076.0             2.0       64.0            130.0   \n",
       "min    18073108.0             1.0        1.0             10.0   \n",
       "25%    20533114.0             2.0       21.0            100.0   \n",
       "50%    24621903.0             3.0       50.0            160.0   \n",
       "75%    32985383.0             4.0       88.0            225.0   \n",
       "max    48365940.0             6.0     2433.0           3400.0   \n",
       "\n",
       "       received_communication  \n",
       "count                 35884.0  \n",
       "mean                      1.0  \n",
       "std                       0.0  \n",
       "min                       0.0  \n",
       "25%                       0.0  \n",
       "50%                       1.0  \n",
       "75%                       1.0  \n",
       "max                       1.0  "
      ]
     },
     "execution_count": 12,
     "metadata": {},
     "output_type": "execute_result"
    }
   ],
   "source": [
    "round(df_clients.describe())"
   ]
  }
 ],
 "metadata": {
  "interpreter": {
   "hash": "494e690407c5c7c9b2fbc0a1227ada2e3d821eefed538763ba3356ad470e06f1"
  },
  "kernelspec": {
   "display_name": "Python 3.9.7 ('base')",
   "language": "python",
   "name": "python3"
  },
  "language_info": {
   "codemirror_mode": {
    "name": "ipython",
    "version": 3
   },
   "file_extension": ".py",
   "mimetype": "text/x-python",
   "name": "python",
   "nbconvert_exporter": "python",
   "pygments_lexer": "ipython3",
   "version": "3.9.7"
  },
  "orig_nbformat": 4
 },
 "nbformat": 4,
 "nbformat_minor": 2
}
