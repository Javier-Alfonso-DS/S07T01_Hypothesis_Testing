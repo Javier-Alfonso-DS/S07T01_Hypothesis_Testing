{
 "cells": [
  {
   "cell_type": "markdown",
   "metadata": {},
   "source": [
    "\n",
    "# S07T01_Hypothesis_Testing\n",
    "Sprint 7.Task 1. Hypothesis Testing\n",
    "\n",
    "# TASK STATEMENT:\n",
    "Learn how to perform hypothesis testing with Python.\n",
    "\n",
    "Level 1\n",
    "- Exercise 1  \n",
    ">Take a data set you like and select an attribute from the data set.  \n",
    "Calculate the p-value and say whether it disproves the null hypothesis by taking an alpha of 5%. \n",
    "\n",
    "Level 2\n",
    "- Exercise 2  \n",
    ">Continue with the data set you like and select two other attributes from the data set.  \n",
    "Calculate the p-values and say whether they disprove the null hypothesis by taking an alpha of 5%.\n",
    "\n",
    "Level 3 \n",
    "- Exercise 3  \n",
    ">Continue with the data set you like and select three attributes from the data set.  \n",
    "Calculate the p-value and say whether it disproves the null hypothesis by taking an alpha of 5%.\n"
   ]
  },
  {
   "cell_type": "markdown",
   "metadata": {},
   "source": [
    "# REFERENCE RESOURCES:\n",
    "------  \n",
    "## Steps for Hypothesis testing:  \n",
    "(🗨️ from  https://towardsdatascience.com/hypothesis-testing-explained-as-simply-as-possible-6e0a256293cf)\n",
    "![](2022-02-16-12-05-14.png)  \n",
    "\n",
    "------  \n",
    "## Explanation of p-value:  \n",
    "(🗨️ from https://en.wikipedia.org/wiki/P-value)  \n",
    "![](2022-02-16-12-16-29.png)\n",
    "\n",
    "------\n",
    "## Careful, Misuse of p-value:\n",
    "(🗨️ from https://en.wikipedia.org/wiki/P-value)  \n",
    "![](2022-02-16-12-23-32.png)"
   ]
  },
  {
   "cell_type": "markdown",
   "metadata": {},
   "source": [
    "# DATASET INFORMATION:\n",
    "We are going to select the dataset of the 2022 Hackathon MWC Barcelona (Mobile World Congress)\n",
    "## 🖥 Challenge\n",
    "### Background  \n",
    "Nuwefruit is a startup that seeks to revolutionize the habits of the population by encouraging the consumption of fruit on a daily basis. For this reason, the company specializes in the sale of fruit at home, which thanks to its last mile optimization algorithm allows it to have very low logistics costs. This allows Nuwefruit to sell fruit at a lower price than its competitors. Its catalog is based on the sale of more than 20 types of fruit, which have the best nutritional properties.\n",
    "\n",
    "### Overview: the dataset and challenge\n",
    "\n",
    "Two datasets will be used: the first one contains data on Nuwefruit's customers and the other one contains data on the orders placed by them.\n",
    "\n",
    "The customer dataset 'CLIENT TABLE' contains the following variables:\n",
    "\n",
    "\n",
    "|Column |Description |\n",
    "|---------|---------|\n",
    "|CLIENT ID:|Unique identifier of the customer  \n",
    "|CLIENT_SEGMENT:|Customer segment  \n",
    "|AVG CONSO: | Average monthly consumption of the customer calculated at the end of 2020 (in pieces of fruit)\n",
    "|AVG BASKET SIZE: |Customer's average basket size calculated at the end of 2020 (in pieces of fruit)\n",
    "|RECEIVED_COMMUNICATION:| 1 = Received promotion of your products / 0 = did not receive it\n"
   ]
  },
  {
   "cell_type": "markdown",
   "metadata": {},
   "source": [
    "# EDA - Exploratory Dataset Analysis"
   ]
  },
  {
   "cell_type": "code",
   "execution_count": 20,
   "metadata": {},
   "outputs": [],
   "source": [
    "# Import libraries\n",
    "import numpy as np\n",
    "import pandas as pd\n",
    "import matplotlib.pyplot as plt\n",
    "import seaborn as sns\n",
    "from scipy import stats\n"
   ]
  },
  {
   "cell_type": "code",
   "execution_count": 21,
   "metadata": {},
   "outputs": [],
   "source": [
    "# Import dataset\n",
    "df_clients = pd.read_csv(\"mwc22-client_table.csv\", decimal = ',')"
   ]
  },
  {
   "cell_type": "code",
   "execution_count": 22,
   "metadata": {},
   "outputs": [
    {
     "data": {
      "text/plain": [
       "Index(['client_id', 'client_segment', 'avg_conso', 'avg_basket_size',\n",
       "       'received_communication'],\n",
       "      dtype='object')"
      ]
     },
     "execution_count": 22,
     "metadata": {},
     "output_type": "execute_result"
    }
   ],
   "source": [
    "# Column names cleansing\n",
    "df_clients.columns = df_clients.columns.str.lower()\n",
    "df_clients.columns = df_clients.columns.str.replace(\" \",\"_\")\n",
    "df_clients.rename_axis('client_id', inplace=True)\n",
    "df_clients.columns"
   ]
  },
  {
   "cell_type": "code",
   "execution_count": 23,
   "metadata": {},
   "outputs": [
    {
     "name": "stdout",
     "output_type": "stream",
     "text": [
      "<class 'pandas.core.frame.DataFrame'>\n",
      "RangeIndex: 35884 entries, 0 to 35883\n",
      "Data columns (total 5 columns):\n",
      " #   Column                  Non-Null Count  Dtype  \n",
      "---  ------                  --------------  -----  \n",
      " 0   client_id               35884 non-null  int64  \n",
      " 1   client_segment          35884 non-null  int64  \n",
      " 2   avg_conso               35884 non-null  float64\n",
      " 3   avg_basket_size         35884 non-null  float64\n",
      " 4   received_communication  35884 non-null  int64  \n",
      "dtypes: float64(2), int64(3)\n",
      "memory usage: 1.4 MB\n"
     ]
    }
   ],
   "source": [
    "# Dataset info\n",
    "df_clients.info()"
   ]
  },
  {
   "cell_type": "code",
   "execution_count": 24,
   "metadata": {},
   "outputs": [],
   "source": [
    "# Sort by client_id\n",
    "df_clients.sort_index(inplace=True)"
   ]
  },
  {
   "cell_type": "code",
   "execution_count": 25,
   "metadata": {},
   "outputs": [
    {
     "data": {
      "text/html": [
       "<div>\n",
       "<style scoped>\n",
       "    .dataframe tbody tr th:only-of-type {\n",
       "        vertical-align: middle;\n",
       "    }\n",
       "\n",
       "    .dataframe tbody tr th {\n",
       "        vertical-align: top;\n",
       "    }\n",
       "\n",
       "    .dataframe thead th {\n",
       "        text-align: right;\n",
       "    }\n",
       "</style>\n",
       "<table border=\"1\" class=\"dataframe\">\n",
       "  <thead>\n",
       "    <tr style=\"text-align: right;\">\n",
       "      <th></th>\n",
       "      <th>client_id</th>\n",
       "      <th>client_segment</th>\n",
       "      <th>avg_conso</th>\n",
       "      <th>avg_basket_size</th>\n",
       "      <th>received_communication</th>\n",
       "    </tr>\n",
       "  </thead>\n",
       "  <tbody>\n",
       "    <tr>\n",
       "      <th>count</th>\n",
       "      <td>35884.00</td>\n",
       "      <td>35884.00</td>\n",
       "      <td>35884.00</td>\n",
       "      <td>35884.00</td>\n",
       "      <td>35884.00</td>\n",
       "    </tr>\n",
       "    <tr>\n",
       "      <th>mean</th>\n",
       "      <td>27060578.92</td>\n",
       "      <td>3.12</td>\n",
       "      <td>64.53</td>\n",
       "      <td>181.22</td>\n",
       "      <td>0.51</td>\n",
       "    </tr>\n",
       "    <tr>\n",
       "      <th>std</th>\n",
       "      <td>8835076.38</td>\n",
       "      <td>1.51</td>\n",
       "      <td>64.38</td>\n",
       "      <td>129.60</td>\n",
       "      <td>0.50</td>\n",
       "    </tr>\n",
       "    <tr>\n",
       "      <th>min</th>\n",
       "      <td>18073108.00</td>\n",
       "      <td>1.00</td>\n",
       "      <td>0.83</td>\n",
       "      <td>10.00</td>\n",
       "      <td>0.00</td>\n",
       "    </tr>\n",
       "    <tr>\n",
       "      <th>25%</th>\n",
       "      <td>20533114.25</td>\n",
       "      <td>2.00</td>\n",
       "      <td>20.83</td>\n",
       "      <td>100.00</td>\n",
       "      <td>0.00</td>\n",
       "    </tr>\n",
       "    <tr>\n",
       "      <th>50%</th>\n",
       "      <td>24621903.00</td>\n",
       "      <td>3.00</td>\n",
       "      <td>50.00</td>\n",
       "      <td>160.00</td>\n",
       "      <td>1.00</td>\n",
       "    </tr>\n",
       "    <tr>\n",
       "      <th>75%</th>\n",
       "      <td>32985383.25</td>\n",
       "      <td>4.00</td>\n",
       "      <td>88.17</td>\n",
       "      <td>225.00</td>\n",
       "      <td>1.00</td>\n",
       "    </tr>\n",
       "    <tr>\n",
       "      <th>max</th>\n",
       "      <td>48365940.00</td>\n",
       "      <td>6.00</td>\n",
       "      <td>2433.33</td>\n",
       "      <td>3400.20</td>\n",
       "      <td>1.00</td>\n",
       "    </tr>\n",
       "  </tbody>\n",
       "</table>\n",
       "</div>"
      ],
      "text/plain": [
       "         client_id  client_segment  avg_conso  avg_basket_size  \\\n",
       "count     35884.00        35884.00   35884.00         35884.00   \n",
       "mean   27060578.92            3.12      64.53           181.22   \n",
       "std     8835076.38            1.51      64.38           129.60   \n",
       "min    18073108.00            1.00       0.83            10.00   \n",
       "25%    20533114.25            2.00      20.83           100.00   \n",
       "50%    24621903.00            3.00      50.00           160.00   \n",
       "75%    32985383.25            4.00      88.17           225.00   \n",
       "max    48365940.00            6.00    2433.33          3400.20   \n",
       "\n",
       "       received_communication  \n",
       "count                35884.00  \n",
       "mean                     0.51  \n",
       "std                      0.50  \n",
       "min                      0.00  \n",
       "25%                      0.00  \n",
       "50%                      1.00  \n",
       "75%                      1.00  \n",
       "max                      1.00  "
      ]
     },
     "execution_count": 25,
     "metadata": {},
     "output_type": "execute_result"
    }
   ],
   "source": [
    "# Dataset describe\n",
    "round(df_clients.describe(include='all'),2)"
   ]
  },
  {
   "cell_type": "code",
   "execution_count": 26,
   "metadata": {},
   "outputs": [
    {
     "data": {
      "image/png": "[encoded data removed]",
      "text/plain": [
       "<Figure size 720x432 with 1 Axes>"
      ]
     },
     "metadata": {},
     "output_type": "display_data"
    }
   ],
   "source": [
    "# Plot Boxplot of complete dataset\n",
    "sns.set_theme(palette=\"pastel\")\n",
    "fig, ax = plt.subplots(figsize=(10,6))\n",
    "ax.set_title(\"avg_basket_size vs client_segment\")\n",
    "sns.boxplot(y = 'avg_basket_size',data = df_clients);"
   ]
  },
  {
   "cell_type": "markdown",
   "metadata": {},
   "source": [
    "# LEVEL 1\n",
    "## - EXERCISE 1\n",
    "The attribute that we are going to choose is avg_basket_size  (Customer's average basket size).  \n",
    "![](2022-02-17-15-52-13.png)  \n",
    "As seen on describe function, the mean of the avg_basket_size is 181.22 pieces of fruit.  \n",
    "\n",
    "But, as we see on the boxplot graphic, there are a lot of outlayers that may be distorting the real mean avg_basket_size of the whole population.\n",
    "\n",
    "Let's plot our data (without outlayers) to see if it follows a normal distribution:"
   ]
  },
  {
   "cell_type": "code",
   "execution_count": 42,
   "metadata": {},
   "outputs": [
    {
     "data": {
      "image/png": "[encoded data removed]",
      "text/plain": [
       "<Figure size 720x432 with 1 Axes>"
      ]
     },
     "metadata": {},
     "output_type": "display_data"
    }
   ],
   "source": [
    "# Plot Histogram just from 0 to 500 avg_basket_size\n",
    "# Prepare data\n",
    "data_x = df_clients['avg_basket_size']\n",
    "# Render\n",
    "fig, ax = plt.subplots(figsize=(10,6))\n",
    "ax.set_title('avg_basket_size Histogram (0-500)')\n",
    "ax.set_xlim(0,500)\n",
    "ax.hist(data_x,bins= 50);\n",
    "plt.show()"
   ]
  },
  {
   "cell_type": "markdown",
   "metadata": {},
   "source": [
    "### Hypothesis testing (one variable):\n",
    "\n",
    "The distribution seems a normal distribution (as per the Histogram plot).  \n",
    "And with the boxplot graph we have shown that there are quite a lot outlayers.  \n",
    "\n",
    "* Our **null hypothesis** (or H0) is going to be the logical, that *the mean of the total population is equal o greater than the mean of the sample (181.22)*\n",
    "* Our **alternative hypothesis** (or HA) is going to be that *the main value of the total population is lower than the actual mean value*  \n",
    "because we think that the outlayers of the sample have distorted the mean value of sample but in the whole population we expect to be lower.  \n",
    "\n",
    "Mathematically expressed as:\n",
    "\n",
    "* H0: µ ≥ 181.22 (the mean avg_basket_size is 181.22 fruits) (sample mean)\n",
    "* HA: µ < 181.22 (the mean avg_basket_size is less than 181.22 fruits) (because there are many outlayers)\n",
    "\n",
    "Let's calculate the p-value for this Hypothesis test:"
   ]
  },
  {
   "cell_type": "code",
   "execution_count": 28,
   "metadata": {},
   "outputs": [
    {
     "name": "stdout",
     "output_type": "stream",
     "text": [
      "The p-value is 0.4992\n"
     ]
    }
   ],
   "source": [
    "# p-value calculation\n",
    "result = stats.ttest_1samp(data_x, 181.22, alternative = 'less')\n",
    "print(\"The p-value is %.4f\" %result.pvalue)"
   ]
  },
  {
   "cell_type": "markdown",
   "metadata": {},
   "source": [
    "### Results interpretation:\n",
    "\n",
    "* Because the p-value of our test (0.4992) is greater than alpha = 0.05, we fail to reject the null hypothesis of the test.  \n",
    "**We do not have sufficient evidence to say that the mean avg_basket_size for this particular client's dataset is less than 181.22 fruits.**"
   ]
  },
  {
   "cell_type": "markdown",
   "metadata": {},
   "source": [
    "# LEVEL 2\n",
    "## - EXERCISE 2\n",
    "Let's try now two variables, the **average consummation and promotion received** \n",
    "(avg_conso & received_communication)  \n",
    "\n",
    "![](2022-02-17-15-55-15.png)\n",
    "\n",
    "First, let's filter the data:"
   ]
  },
  {
   "cell_type": "code",
   "execution_count": 29,
   "metadata": {},
   "outputs": [
    {
     "data": {
      "text/plain": [
       "client_id\n",
       "17655    120.92\n",
       "17656     50.00\n",
       "17657     35.00\n",
       "17658    204.25\n",
       "17659     33.33\n",
       "          ...  \n",
       "35879     12.50\n",
       "35880     37.50\n",
       "35881     41.67\n",
       "35882     62.58\n",
       "35883     89.17\n",
       "Name: avg_conso, Length: 18229, dtype: float64"
      ]
     },
     "execution_count": 29,
     "metadata": {},
     "output_type": "execute_result"
    }
   ],
   "source": [
    "# Filtering data\n",
    "data_2var = df_clients['avg_conso'] [df_clients['received_communication']== 1]\n",
    "data_2var"
   ]
  },
  {
   "cell_type": "code",
   "execution_count": 30,
   "metadata": {},
   "outputs": [
    {
     "data": {
      "text/plain": [
       "count    18229.000000\n",
       "mean        75.630256\n",
       "std         70.082131\n",
       "min          0.830000\n",
       "25%         33.330000\n",
       "50%         59.170000\n",
       "75%        100.000000\n",
       "max       2433.330000\n",
       "Name: avg_conso, dtype: float64"
      ]
     },
     "execution_count": 30,
     "metadata": {},
     "output_type": "execute_result"
    }
   ],
   "source": [
    "# Getting info (describe) from data\n",
    "data_2var.describe()"
   ]
  },
  {
   "cell_type": "code",
   "execution_count": 31,
   "metadata": {},
   "outputs": [
    {
     "data": {
      "image/png": "[encoded data removed]",
      "text/plain": [
       "<Figure size 720x360 with 1 Axes>"
      ]
     },
     "metadata": {},
     "output_type": "display_data"
    }
   ],
   "source": [
    "# Boxplot of our data\n",
    "fig, ax = plt.subplots(figsize=(10,5));\n",
    "ax.set_title('Average Consum. with promotion distribution')\n",
    "ax.boxplot(x= data_2var)\n",
    "plt.show()"
   ]
  },
  {
   "cell_type": "code",
   "execution_count": 32,
   "metadata": {},
   "outputs": [
    {
     "data": {
      "image/png": "[encoded data removed]",
      "text/plain": [
       "<Figure size 720x360 with 1 Axes>"
      ]
     },
     "metadata": {},
     "output_type": "display_data"
    }
   ],
   "source": [
    "# Historical plot of our data\n",
    "fig, ax = plt.subplots(figsize=(10,5));\n",
    "ax.set_xlim(0,500)\n",
    "ax.set_title('Average Consum. with promotion distribution')\n",
    "ax.hist(x= data_2var,bins= 100)\n",
    "plt.show()"
   ]
  },
  {
   "cell_type": "markdown",
   "metadata": {},
   "source": [
    "### Hypothesis testing (two variables):\n",
    "\n",
    "As said before, our two variables now are the **average consummation** and **promotion received** (avg_conso & received_communication)   \n",
    "The distribution seems a normal distribution (as per the Histogram plot).  \n",
    "And with the boxplot graph we have shown that there are quite a lot outlayers too.  \n",
    "\n",
    "* Our **null hypothesis** (or H0) is going to be the logical, that *the mean of the total population is equal o greater than the mean of the sample (75.63 fruits)*\n",
    "* Our **alternative hypothesis** (or HA) is going to be that *the main value of the total population is lower than the actual mean value*  \n",
    "because we think that the outlayers of the sample have again distorted the mean value of sample but in the whole population we expect to be lower.  \n",
    "\n",
    "Mathematically expressed as:\n",
    "\n",
    "* H0: µ ≥ 75.63 (the mean avg_conso of clients with promotion is 75.63 fruits) (sample mean)\n",
    "* HA: µ < 75.63 (the mean avg_conso of clients with promotion is less than 75.63 fruits) (because there are many outlayers)\n",
    "\n",
    "Again, we think that the mean value may be artificially high because of the outlayers.\n",
    "\n",
    "Let's calculate the p-value for this hypotheses:"
   ]
  },
  {
   "cell_type": "code",
   "execution_count": 33,
   "metadata": {},
   "outputs": [
    {
     "name": "stdout",
     "output_type": "stream",
     "text": [
      "The p-value is 0.5002\n"
     ]
    }
   ],
   "source": [
    "# p-value calculation\n",
    "result = stats.ttest_1samp(data_2var, 75.63, alternative = 'less')\n",
    "print(\"The p-value is %.4f\" %result.pvalue)"
   ]
  },
  {
   "cell_type": "markdown",
   "metadata": {},
   "source": [
    "### Results interpretation:\n",
    "\n",
    "* Because the p-value of our test (0.50) is greater than alpha = 0.05, we fail to reject the null hypothesis of the test.  \n",
    "**We do not have sufficient evidence to say that the mean avg_conso of clients with promotion's dataset is less than 75.63 fruits.**"
   ]
  },
  {
   "cell_type": "markdown",
   "metadata": {},
   "source": [
    "# LEVEL 3 \n",
    "## - EXERCISE 3\n",
    "Let's try now three variables, **the average consummation without promotion received in client segment 3**.   \n",
    "(avg_conso & received_communication == 0 & client_segment == 3) \n",
    "\n",
    "![](2022-02-17-15-55-56.png) \n",
    "\n",
    "First, let's filter the data:"
   ]
  },
  {
   "cell_type": "code",
   "execution_count": 34,
   "metadata": {},
   "outputs": [
    {
     "data": {
      "text/plain": [
       "client_id\n",
       "2        46.67\n",
       "6        58.33\n",
       "12       20.83\n",
       "15       35.00\n",
       "18       34.58\n",
       "         ...  \n",
       "17639    45.83\n",
       "17645    50.00\n",
       "17647    45.58\n",
       "17652    42.50\n",
       "17654    37.50\n",
       "Name: avg_conso, Length: 3699, dtype: float64"
      ]
     },
     "execution_count": 34,
     "metadata": {},
     "output_type": "execute_result"
    }
   ],
   "source": [
    "# Filtering data\n",
    "data_3var = df_clients['avg_conso'] [df_clients['received_communication']== 0][df_clients['client_segment'] == 3]\n",
    "data_3var"
   ]
  },
  {
   "cell_type": "code",
   "execution_count": 35,
   "metadata": {},
   "outputs": [
    {
     "data": {
      "text/plain": [
       "count    3699.000000\n",
       "mean       39.077983\n",
       "std        13.121105\n",
       "min        10.000000\n",
       "25%        33.330000\n",
       "50%        37.920000\n",
       "75%        47.250000\n",
       "max       151.670000\n",
       "Name: avg_conso, dtype: float64"
      ]
     },
     "execution_count": 35,
     "metadata": {},
     "output_type": "execute_result"
    }
   ],
   "source": [
    "# Getting info (describe) from data\n",
    "data_3var.describe()"
   ]
  },
  {
   "cell_type": "code",
   "execution_count": 36,
   "metadata": {},
   "outputs": [
    {
     "data": {
      "image/png": "[encoded data removed]",
      "text/plain": [
       "<Figure size 720x360 with 1 Axes>"
      ]
     },
     "metadata": {},
     "output_type": "display_data"
    }
   ],
   "source": [
    "# Boxplot of our data\n",
    "fig, ax = plt.subplots(figsize=(10,5));\n",
    "ax.set_title('Average Consum. with promotion distribution')\n",
    "ax.boxplot(x= data_3var)\n",
    "plt.show()"
   ]
  },
  {
   "cell_type": "code",
   "execution_count": 37,
   "metadata": {},
   "outputs": [
    {
     "data": {
      "image/png": "[encoded data removed]",
      "text/plain": [
       "<Figure size 720x360 with 1 Axes>"
      ]
     },
     "metadata": {},
     "output_type": "display_data"
    }
   ],
   "source": [
    "# Historical plot of our data\n",
    "fig, ax = plt.subplots(figsize=(10,5));\n",
    "ax.set_xlim(0,70)\n",
    "ax.set_title('Average Consum. with promotion distribution')\n",
    "ax.hist(x= data_3var,bins= 100)\n",
    "plt.show()"
   ]
  },
  {
   "cell_type": "markdown",
   "metadata": {},
   "source": [
    "### Hypothesis testing (three variables):\n",
    "\n",
    "As said before, our three variables now are **the average consummation without promotion received in client segment 3**.   \n",
    "(avg_conso & received_communication == 0 & client_segment == 3)   \n",
    "The distribution seems a normal distribution (as per the Histogram plot).  \n",
    "And with the boxplot graph we have shown that there are quite a lot outlayers too.  \n",
    "\n",
    "* Our **null hypothesis** (or H0) is going to be the logical, that *the mean of the total population is equal or greater than the mean of the sample (39.07 fruits)*\n",
    "* Our **alternative hypothesis** (or HA) is going to be that *the main value of the total population is lower than the actual mean value*  \n",
    "because we think that the outlayers of the sample have again distorted the mean value of sample but in the whole population we expect to be lower.  \n",
    "\n",
    "Mathematically expressed as:\n",
    "\n",
    "* H0: µ ≥ 39.07 (the mean avg_conso of clients with promotion is 39.07 fruits) (sample mean)\n",
    "* HA: µ < 39.07 (the mean avg_conso of clients with promotion is less than 39.07 fruits) (because there are many outlayers)\n",
    "\n",
    "Again, we think that the mean value may be artificially high because of the outlayers.\n",
    "\n",
    "Let's calculate the p-value for this hypotheses:"
   ]
  },
  {
   "cell_type": "code",
   "execution_count": 38,
   "metadata": {},
   "outputs": [
    {
     "name": "stdout",
     "output_type": "stream",
     "text": [
      "The p-value is 0.5148\n"
     ]
    }
   ],
   "source": [
    "# p-value calculation\n",
    "result = stats.ttest_1samp(data_3var, 39.07, alternative = 'less')\n",
    "print(\"The p-value is %.4f\" %result.pvalue)"
   ]
  },
  {
   "cell_type": "markdown",
   "metadata": {},
   "source": [
    "### Results interpretation:\n",
    "\n",
    "* Because the p-value of our test (0.51) is greater than alpha = 0.05, we fail to reject the null hypothesis of the test.  \n",
    "**We do not have sufficient evidence to say that the dataset of *average consummation without promotion in client segment 3* is less than 39.07 fruits.**"
   ]
  }
 ],
 "metadata": {
  "interpreter": {
   "hash": "494e690407c5c7c9b2fbc0a1227ada2e3d821eefed538763ba3356ad470e06f1"
  },
  "kernelspec": {
   "display_name": "Python 3.9.7 ('base')",
   "language": "python",
   "name": "python3"
  },
  "language_info": {
   "codemirror_mode": {
    "name": "ipython",
    "version": 3
   },
   "file_extension": ".py",
   "mimetype": "text/x-python",
   "name": "python",
   "nbconvert_exporter": "python",
   "pygments_lexer": "ipython3",
   "version": "3.9.7"
  },
  "orig_nbformat": 4
 },
 "nbformat": 4,
 "nbformat_minor": 2
}
