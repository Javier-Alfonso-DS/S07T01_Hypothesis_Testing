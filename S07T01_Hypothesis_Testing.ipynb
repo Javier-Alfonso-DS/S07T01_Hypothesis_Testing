{
 "cells": [
  {
   "cell_type": "markdown",
   "metadata": {},
   "source": [
    "\n",
    "# S07T01_Hypothesis_Testing\n",
    "Sprint 7.Task 1. Hypothesis Testing\n",
    "\n",
    "## Description\n",
    "Learn how to perform hypothesis testing with Python.\n",
    "\n",
    "Level 1\n",
    "- Exercise 1\n",
    "Take a data set you like and select an attribute from the data set. Calculate the p-value and say whether it disproves the null hypothesis by taking an alpha of 5%. \n",
    "\n",
    "Level 2\n",
    "- Exercise 2\n",
    "Continue with the data set you like and select two other attributes from the data set. Calculate the p-values and say whether they disprove the null hypothesis by taking an alpha of 5%.\n",
    "\n",
    "Level 3 \n",
    "- Exercise 3\n",
    "Continue with the data set you like and select three attributes from the data set. Calculate the p-value and say whether it disproves the null hypothesis by taking an alpha of 5%.\n"
   ]
  },
  {
   "cell_type": "markdown",
   "metadata": {},
   "source": [
    "## Level 1\n",
    "### - Exercise 1\n",
    "Take a data set you like and select an attribute from the data set. Calculate the p-value and say whether it disproves the null hypothesis by taking an alpha of 5%. \n",
    "\n",
    "Explanation of p-value:  ( 🗨️ from https://en.wikipedia.org/wiki/P-value)\n",
    "![](2022-02-09-18-38-42.png)\n",
    "\n",
    "We are going to select the dataset of the 2022 Hackathon MWC Barcelona (Mobile World Congress)"
   ]
  },
  {
   "cell_type": "markdown",
   "metadata": {},
   "source": [
    "## Dataset Information:\n",
    "## 🖥 RETO\n",
    "### Background  \n",
    "Nuwefruit es una startup que busca revolucionar los hábitos de la población fomentando el cosumo de fruta a diario. Por este motivo, la empresa está especializada en la venta de fruta a domicilio, que gracias a su algoritmo de optimización de la última milla le permite tener unos costes logisticos muy bajos. Esto permite que Nuwefruit pueda vender fruta a un precio inferior al de su competencia. Su catálogo se basa en la venta de más de 20 tipos de frutas, que son las que presentan las mejores propiedades nutritivas.\n",
    "\n",
    "### Overview: the dataset and challenge\n",
    "\n",
    "Se emplearan dos datasets: el primero contiene datos de los clientes de Nuwefruit y el otro contiene los datos de los pedidos realizados por estos.\n",
    "\n",
    "El dataset de clientes 'CLIENT TABLE' contiene las siguientes variables:\n",
    "\n",
    "\n",
    "|Columna  |Descripción  |\n",
    "|---------|---------|\n",
    "|CLIENT ID:| Identificador único del cliente  \n",
    "|CLIENT_SEGMENT:| Segmento de clientes  \n",
    "|AVG CONSO: | Consumo medio mensual del cliente calculado a finales de 2020 (en piezas de fruta)\n",
    "|AVG BASKET SIZE: |Tamaño medio de la cesta del cliente calculado a finales de 2020 (en piezas de fruta)\n",
    "|RECEIVED_COMMUNICATION:| 1 = Recibió promoción de sus productos / 0 = no la recibió\n",
    "\n",
    "El dataset de clientes 'ORDERS TABLE' contiene las siguientes variables:\n",
    "\n",
    "|Columna  |Descripción  |\n",
    "|---------|---------|\n",
    "|CLIENT ID:| Identificador único del cliente\n",
    "NB PRODS:| Número de 'prods' de la variedad de fruta en el pedido (1 prod = 10 piezas de fruta)\n",
    "ORDER ID:| Identificador único del pedido\n",
    "FRUIT_PRODUCT:| Variedad de fruta\n",
    "\n",
    "\n",
    "### Objetivos\n",
    "Haz un analisis exploratorio de los datos que permita:\n",
    "- Analizar las ventas y la actividad de los clientes\n",
    "- Evaluar el impacto de la promoción\n",
    "- Realiza un modelo predictivo que permita conocer el tipo de segmento al que pertenece cada cliente en función de las siguientes variables predictoras: Descargar test_x. (Se ha de predecir la variable (CLIENT_SEGMENT)).\n",
    "### Evaluación\n",
    "- 900 puntos -> Objetivos. Los objetivos se evaluarán en función del EDA realizado y del f1-score(macro) obtenido al comparar las predicciones de tu algoritmo cuando se les mete como input las variables del dataset 'test_x'.\n",
    "- 200 puntos -> Cálidad del código\n",
    "- 100 puntos -> Documentación\n",
    "\n",
    "### Entrega\n",
    "Has de pegar el link a tu repositorio.\n",
    "\n",
    "Este ha de tener:\n",
    "\n",
    "- El código con el que has realizado el EDA y el modelo predictivo.\n",
    "\n",
    "- Un archivo 'results.csv' con las predicciones de tu algoritmo al meterle como input el dataset test_x. Este archivo con los resultados ha de tener una columna con el 'CLIENT ID' y otra con las predicciones del 'CLIENT_SEGMENT'. Tal y como en el siguiente ejemplo: Ejemplo results.csv\n",
    "\n"
   ]
  },
  {
   "cell_type": "code",
   "execution_count": 49,
   "metadata": {},
   "outputs": [],
   "source": [
    "# Import libraries\n",
    "import numpy as np\n",
    "import pandas as pd"
   ]
  },
  {
   "cell_type": "code",
   "execution_count": 50,
   "metadata": {},
   "outputs": [],
   "source": [
    "# Importar los datasets\n",
    "df_clients = pd.read_csv(\"mwc22-client_table.csv\", decimal = ',')\n",
    "df_orders = pd.read_csv(\"mwc22-orders_table.csv\")\n",
    "df_clients_test_x = pd.read_csv(\"mwc22-client_table+-+test_x.csv\", decimal = ',')"
   ]
  },
  {
   "cell_type": "code",
   "execution_count": 51,
   "metadata": {},
   "outputs": [
    {
     "data": {
      "text/plain": [
       "Index(['client_id', 'client_segment', 'avg_conso', 'avg_basket_size',\n",
       "       'received_communication'],\n",
       "      dtype='object')"
      ]
     },
     "execution_count": 51,
     "metadata": {},
     "output_type": "execute_result"
    }
   ],
   "source": [
    "# Limpieza de nombres de columnas df_clients\n",
    "df_clients.columns = df_clients.columns.str.lower()\n",
    "df_clients.columns = df_clients.columns.str.replace(\" \",\"_\")\n",
    "df_clients.rename_axis('client_id', inplace=True)\n",
    "df_clients.columns"
   ]
  },
  {
   "cell_type": "code",
   "execution_count": 52,
   "metadata": {},
   "outputs": [
    {
     "name": "stdout",
     "output_type": "stream",
     "text": [
      "<class 'pandas.core.frame.DataFrame'>\n",
      "RangeIndex: 35884 entries, 0 to 35883\n",
      "Data columns (total 5 columns):\n",
      " #   Column                  Non-Null Count  Dtype  \n",
      "---  ------                  --------------  -----  \n",
      " 0   client_id               35884 non-null  int64  \n",
      " 1   client_segment          35884 non-null  int64  \n",
      " 2   avg_conso               35884 non-null  float64\n",
      " 3   avg_basket_size         35884 non-null  float64\n",
      " 4   received_communication  35884 non-null  int64  \n",
      "dtypes: float64(2), int64(3)\n",
      "memory usage: 1.4 MB\n"
     ]
    }
   ],
   "source": [
    "df_clients.info()"
   ]
  },
  {
   "cell_type": "code",
   "execution_count": 53,
   "metadata": {},
   "outputs": [],
   "source": [
    "df_clients.sort_index(inplace=True)"
   ]
  },
  {
   "cell_type": "code",
   "execution_count": 54,
   "metadata": {},
   "outputs": [
    {
     "data": {
      "text/plain": [
       "Index(['client_id', 'nb_prods', 'order_id', 'fruit_product'], dtype='object')"
      ]
     },
     "execution_count": 54,
     "metadata": {},
     "output_type": "execute_result"
    }
   ],
   "source": [
    "# Limpieza de nombres de columnas df_orders\n",
    "df_orders.columns = df_orders.columns.str.lower()\n",
    "df_orders.columns = df_orders.columns.str.replace(\" \",\"_\")\n",
    "df_orders.rename_axis('client_id', inplace=True)\n",
    "df_orders.columns"
   ]
  },
  {
   "cell_type": "code",
   "execution_count": 55,
   "metadata": {},
   "outputs": [
    {
     "name": "stdout",
     "output_type": "stream",
     "text": [
      "<class 'pandas.core.frame.DataFrame'>\n",
      "RangeIndex: 66912 entries, 0 to 66911\n",
      "Data columns (total 4 columns):\n",
      " #   Column         Non-Null Count  Dtype \n",
      "---  ------         --------------  ----- \n",
      " 0   client_id      66912 non-null  int64 \n",
      " 1   nb_prods       66912 non-null  int64 \n",
      " 2   order_id       66912 non-null  int64 \n",
      " 3   fruit_product  66912 non-null  object\n",
      "dtypes: int64(3), object(1)\n",
      "memory usage: 2.0+ MB\n"
     ]
    }
   ],
   "source": [
    "df_orders.info()"
   ]
  },
  {
   "cell_type": "code",
   "execution_count": 56,
   "metadata": {},
   "outputs": [
    {
     "data": {
      "text/html": [
       "<div>\n",
       "<style scoped>\n",
       "    .dataframe tbody tr th:only-of-type {\n",
       "        vertical-align: middle;\n",
       "    }\n",
       "\n",
       "    .dataframe tbody tr th {\n",
       "        vertical-align: top;\n",
       "    }\n",
       "\n",
       "    .dataframe thead th {\n",
       "        text-align: right;\n",
       "    }\n",
       "</style>\n",
       "<table border=\"1\" class=\"dataframe\">\n",
       "  <thead>\n",
       "    <tr style=\"text-align: right;\">\n",
       "      <th></th>\n",
       "      <th>client_id</th>\n",
       "      <th>client_segment</th>\n",
       "      <th>avg_conso</th>\n",
       "      <th>avg_basket_size</th>\n",
       "      <th>received_communication</th>\n",
       "    </tr>\n",
       "  </thead>\n",
       "  <tbody>\n",
       "    <tr>\n",
       "      <th>count</th>\n",
       "      <td>35884.00</td>\n",
       "      <td>35884.00</td>\n",
       "      <td>35884.00</td>\n",
       "      <td>35884.00</td>\n",
       "      <td>35884.00</td>\n",
       "    </tr>\n",
       "    <tr>\n",
       "      <th>mean</th>\n",
       "      <td>27060578.92</td>\n",
       "      <td>3.12</td>\n",
       "      <td>64.53</td>\n",
       "      <td>181.22</td>\n",
       "      <td>0.51</td>\n",
       "    </tr>\n",
       "    <tr>\n",
       "      <th>std</th>\n",
       "      <td>8835076.38</td>\n",
       "      <td>1.51</td>\n",
       "      <td>64.38</td>\n",
       "      <td>129.60</td>\n",
       "      <td>0.50</td>\n",
       "    </tr>\n",
       "    <tr>\n",
       "      <th>min</th>\n",
       "      <td>18073108.00</td>\n",
       "      <td>1.00</td>\n",
       "      <td>0.83</td>\n",
       "      <td>10.00</td>\n",
       "      <td>0.00</td>\n",
       "    </tr>\n",
       "    <tr>\n",
       "      <th>25%</th>\n",
       "      <td>20533114.25</td>\n",
       "      <td>2.00</td>\n",
       "      <td>20.83</td>\n",
       "      <td>100.00</td>\n",
       "      <td>0.00</td>\n",
       "    </tr>\n",
       "    <tr>\n",
       "      <th>50%</th>\n",
       "      <td>24621903.00</td>\n",
       "      <td>3.00</td>\n",
       "      <td>50.00</td>\n",
       "      <td>160.00</td>\n",
       "      <td>1.00</td>\n",
       "    </tr>\n",
       "    <tr>\n",
       "      <th>75%</th>\n",
       "      <td>32985383.25</td>\n",
       "      <td>4.00</td>\n",
       "      <td>88.17</td>\n",
       "      <td>225.00</td>\n",
       "      <td>1.00</td>\n",
       "    </tr>\n",
       "    <tr>\n",
       "      <th>max</th>\n",
       "      <td>48365940.00</td>\n",
       "      <td>6.00</td>\n",
       "      <td>2433.33</td>\n",
       "      <td>3400.20</td>\n",
       "      <td>1.00</td>\n",
       "    </tr>\n",
       "  </tbody>\n",
       "</table>\n",
       "</div>"
      ],
      "text/plain": [
       "         client_id  client_segment  avg_conso  avg_basket_size  \\\n",
       "count     35884.00        35884.00   35884.00         35884.00   \n",
       "mean   27060578.92            3.12      64.53           181.22   \n",
       "std     8835076.38            1.51      64.38           129.60   \n",
       "min    18073108.00            1.00       0.83            10.00   \n",
       "25%    20533114.25            2.00      20.83           100.00   \n",
       "50%    24621903.00            3.00      50.00           160.00   \n",
       "75%    32985383.25            4.00      88.17           225.00   \n",
       "max    48365940.00            6.00    2433.33          3400.20   \n",
       "\n",
       "       received_communication  \n",
       "count                35884.00  \n",
       "mean                     0.51  \n",
       "std                      0.50  \n",
       "min                      0.00  \n",
       "25%                      0.00  \n",
       "50%                      1.00  \n",
       "75%                      1.00  \n",
       "max                      1.00  "
      ]
     },
     "execution_count": 56,
     "metadata": {},
     "output_type": "execute_result"
    }
   ],
   "source": [
    "round(df_clients.describe(include='all'),2)"
   ]
  },
  {
   "cell_type": "code",
   "execution_count": 57,
   "metadata": {},
   "outputs": [
    {
     "data": {
      "text/html": [
       "<div>\n",
       "<style scoped>\n",
       "    .dataframe tbody tr th:only-of-type {\n",
       "        vertical-align: middle;\n",
       "    }\n",
       "\n",
       "    .dataframe tbody tr th {\n",
       "        vertical-align: top;\n",
       "    }\n",
       "\n",
       "    .dataframe thead th {\n",
       "        text-align: right;\n",
       "    }\n",
       "</style>\n",
       "<table border=\"1\" class=\"dataframe\">\n",
       "  <thead>\n",
       "    <tr style=\"text-align: right;\">\n",
       "      <th></th>\n",
       "      <th>client_id</th>\n",
       "      <th>nb_prods</th>\n",
       "      <th>order_id</th>\n",
       "    </tr>\n",
       "  </thead>\n",
       "  <tbody>\n",
       "    <tr>\n",
       "      <th>count</th>\n",
       "      <td>66912.00</td>\n",
       "      <td>66912.00</td>\n",
       "      <td>6.691200e+04</td>\n",
       "    </tr>\n",
       "    <tr>\n",
       "      <th>mean</th>\n",
       "      <td>26134065.11</td>\n",
       "      <td>4.53</td>\n",
       "      <td>6.722533e+08</td>\n",
       "    </tr>\n",
       "    <tr>\n",
       "      <th>std</th>\n",
       "      <td>8473596.01</td>\n",
       "      <td>5.79</td>\n",
       "      <td>3.205826e+06</td>\n",
       "    </tr>\n",
       "    <tr>\n",
       "      <th>min</th>\n",
       "      <td>18070505.00</td>\n",
       "      <td>-80.00</td>\n",
       "      <td>6.638335e+08</td>\n",
       "    </tr>\n",
       "    <tr>\n",
       "      <th>25%</th>\n",
       "      <td>20174269.00</td>\n",
       "      <td>1.00</td>\n",
       "      <td>6.694803e+08</td>\n",
       "    </tr>\n",
       "    <tr>\n",
       "      <th>50%</th>\n",
       "      <td>24380549.00</td>\n",
       "      <td>3.00</td>\n",
       "      <td>6.719971e+08</td>\n",
       "    </tr>\n",
       "    <tr>\n",
       "      <th>75%</th>\n",
       "      <td>25387075.00</td>\n",
       "      <td>5.00</td>\n",
       "      <td>6.750893e+08</td>\n",
       "    </tr>\n",
       "    <tr>\n",
       "      <th>max</th>\n",
       "      <td>48365861.00</td>\n",
       "      <td>198.00</td>\n",
       "      <td>6.832132e+08</td>\n",
       "    </tr>\n",
       "  </tbody>\n",
       "</table>\n",
       "</div>"
      ],
      "text/plain": [
       "         client_id  nb_prods      order_id\n",
       "count     66912.00  66912.00  6.691200e+04\n",
       "mean   26134065.11      4.53  6.722533e+08\n",
       "std     8473596.01      5.79  3.205826e+06\n",
       "min    18070505.00    -80.00  6.638335e+08\n",
       "25%    20174269.00      1.00  6.694803e+08\n",
       "50%    24380549.00      3.00  6.719971e+08\n",
       "75%    25387075.00      5.00  6.750893e+08\n",
       "max    48365861.00    198.00  6.832132e+08"
      ]
     },
     "execution_count": 57,
     "metadata": {},
     "output_type": "execute_result"
    }
   ],
   "source": [
    "round(df_orders.describe(),2)"
   ]
  },
  {
   "cell_type": "code",
   "execution_count": 58,
   "metadata": {},
   "outputs": [
    {
     "data": {
      "text/html": [
       "<div>\n",
       "<style scoped>\n",
       "    .dataframe tbody tr th:only-of-type {\n",
       "        vertical-align: middle;\n",
       "    }\n",
       "\n",
       "    .dataframe tbody tr th {\n",
       "        vertical-align: top;\n",
       "    }\n",
       "\n",
       "    .dataframe thead th {\n",
       "        text-align: right;\n",
       "    }\n",
       "</style>\n",
       "<table border=\"1\" class=\"dataframe\">\n",
       "  <thead>\n",
       "    <tr style=\"text-align: right;\">\n",
       "      <th></th>\n",
       "      <th>client_id</th>\n",
       "      <th>nb_prods</th>\n",
       "      <th>order_id</th>\n",
       "      <th>fruit_product</th>\n",
       "    </tr>\n",
       "  </thead>\n",
       "  <tbody>\n",
       "    <tr>\n",
       "      <th>count</th>\n",
       "      <td>66912.00</td>\n",
       "      <td>66912.00</td>\n",
       "      <td>6.691200e+04</td>\n",
       "      <td>66912</td>\n",
       "    </tr>\n",
       "    <tr>\n",
       "      <th>unique</th>\n",
       "      <td>NaN</td>\n",
       "      <td>NaN</td>\n",
       "      <td>NaN</td>\n",
       "      <td>24</td>\n",
       "    </tr>\n",
       "    <tr>\n",
       "      <th>top</th>\n",
       "      <td>NaN</td>\n",
       "      <td>NaN</td>\n",
       "      <td>NaN</td>\n",
       "      <td>Kiwi</td>\n",
       "    </tr>\n",
       "    <tr>\n",
       "      <th>freq</th>\n",
       "      <td>NaN</td>\n",
       "      <td>NaN</td>\n",
       "      <td>NaN</td>\n",
       "      <td>6431</td>\n",
       "    </tr>\n",
       "    <tr>\n",
       "      <th>mean</th>\n",
       "      <td>26134065.11</td>\n",
       "      <td>4.53</td>\n",
       "      <td>6.722533e+08</td>\n",
       "      <td>NaN</td>\n",
       "    </tr>\n",
       "    <tr>\n",
       "      <th>std</th>\n",
       "      <td>8473596.01</td>\n",
       "      <td>5.79</td>\n",
       "      <td>3.205826e+06</td>\n",
       "      <td>NaN</td>\n",
       "    </tr>\n",
       "    <tr>\n",
       "      <th>min</th>\n",
       "      <td>18070505.00</td>\n",
       "      <td>-80.00</td>\n",
       "      <td>6.638335e+08</td>\n",
       "      <td>NaN</td>\n",
       "    </tr>\n",
       "    <tr>\n",
       "      <th>25%</th>\n",
       "      <td>20174269.00</td>\n",
       "      <td>1.00</td>\n",
       "      <td>6.694803e+08</td>\n",
       "      <td>NaN</td>\n",
       "    </tr>\n",
       "    <tr>\n",
       "      <th>50%</th>\n",
       "      <td>24380549.00</td>\n",
       "      <td>3.00</td>\n",
       "      <td>6.719971e+08</td>\n",
       "      <td>NaN</td>\n",
       "    </tr>\n",
       "    <tr>\n",
       "      <th>75%</th>\n",
       "      <td>25387075.00</td>\n",
       "      <td>5.00</td>\n",
       "      <td>6.750893e+08</td>\n",
       "      <td>NaN</td>\n",
       "    </tr>\n",
       "    <tr>\n",
       "      <th>max</th>\n",
       "      <td>48365861.00</td>\n",
       "      <td>198.00</td>\n",
       "      <td>6.832132e+08</td>\n",
       "      <td>NaN</td>\n",
       "    </tr>\n",
       "  </tbody>\n",
       "</table>\n",
       "</div>"
      ],
      "text/plain": [
       "          client_id  nb_prods      order_id fruit_product\n",
       "count      66912.00  66912.00  6.691200e+04         66912\n",
       "unique          NaN       NaN           NaN            24\n",
       "top             NaN       NaN           NaN          Kiwi\n",
       "freq            NaN       NaN           NaN          6431\n",
       "mean    26134065.11      4.53  6.722533e+08           NaN\n",
       "std      8473596.01      5.79  3.205826e+06           NaN\n",
       "min     18070505.00    -80.00  6.638335e+08           NaN\n",
       "25%     20174269.00      1.00  6.694803e+08           NaN\n",
       "50%     24380549.00      3.00  6.719971e+08           NaN\n",
       "75%     25387075.00      5.00  6.750893e+08           NaN\n",
       "max     48365861.00    198.00  6.832132e+08           NaN"
      ]
     },
     "execution_count": 58,
     "metadata": {},
     "output_type": "execute_result"
    }
   ],
   "source": [
    "round(df_orders.describe(include='all'),2)"
   ]
  },
  {
   "cell_type": "markdown",
   "metadata": {},
   "source": [
    "## Level 2\n",
    "### - Exercise 2\n",
    "Continue with the data set you like and select two other attributes from the data set. Calculate the p-values and say whether they disprove the null hypothesis by taking an alpha of 5%."
   ]
  },
  {
   "cell_type": "markdown",
   "metadata": {},
   "source": [
    "## Level 3 \n",
    "### - Exercise 3\n",
    "Continue with the data set you like and select three attributes from the data set. Calculate the p-value and say whether it disproves the null hypothesis by taking an alpha of 5%.\n"
   ]
  }
 ],
 "metadata": {
  "interpreter": {
   "hash": "494e690407c5c7c9b2fbc0a1227ada2e3d821eefed538763ba3356ad470e06f1"
  },
  "kernelspec": {
   "display_name": "Python 3.9.7 ('base')",
   "language": "python",
   "name": "python3"
  },
  "language_info": {
   "codemirror_mode": {
    "name": "ipython",
    "version": 3
   },
   "file_extension": ".py",
   "mimetype": "text/x-python",
   "name": "python",
   "nbconvert_exporter": "python",
   "pygments_lexer": "ipython3",
   "version": "3.9.7"
  },
  "orig_nbformat": 4
 },
 "nbformat": 4,
 "nbformat_minor": 2
}
